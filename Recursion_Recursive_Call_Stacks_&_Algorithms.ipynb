{
  "nbformat": 4,
  "nbformat_minor": 0,
  "metadata": {
    "colab": {
      "provenance": []
    },
    "kernelspec": {
      "name": "python3",
      "display_name": "Python 3"
    },
    "language_info": {
      "name": "python"
    }
  },
  "cells": [
    {
      "cell_type": "code",
      "execution_count": 2,
      "metadata": {
        "colab": {
          "base_uri": "https://localhost:8080/"
        },
        "id": "YEXWMuhqHk-s",
        "outputId": "248695e6-ff21-4475-d856-d145112cccb4"
      },
      "outputs": [
        {
          "output_type": "execute_result",
          "data": {
            "text/plain": [
              "55"
            ]
          },
          "metadata": {},
          "execution_count": 2
        }
      ],
      "source": [
        "#Fibonacci\n",
        "# F(0) = 0\n",
        "# F(1) = 1\n",
        "# n > 1 F(n) = F(n-1) + F(n-2)\n",
        "\n",
        "def F(n):\n",
        "  if n == 0:\n",
        "    return 0\n",
        "  elif n == 1:\n",
        "    return 1\n",
        "  else:\n",
        "    return F(n-1) + F(n-2)\n",
        "\n",
        "F(10)"
      ]
    },
    {
      "cell_type": "code",
      "source": [
        "class SinglyNode:\n",
        "  def __init__(self,val,next=None):\n",
        "    self.val = val\n",
        "    self.next = next\n",
        "\n",
        "  def __str__(self):\n",
        "    return str(self.val)"
      ],
      "metadata": {
        "id": "lNcGnaYmIFXI"
      },
      "execution_count": 4,
      "outputs": []
    },
    {
      "cell_type": "code",
      "source": [
        "Head = SinglyNode(1)\n",
        "A = SinglyNode(2)\n",
        "B = SinglyNode(3)\n",
        "C = SinglyNode(4)\n",
        "\n",
        "Head.next = A\n",
        "A.next = B\n",
        "B.next = C"
      ],
      "metadata": {
        "id": "PQiS7Dp2Ies4"
      },
      "execution_count": 5,
      "outputs": []
    },
    {
      "cell_type": "code",
      "source": [
        "def reverse(node):\n",
        "  if not node:\n",
        "    return\n",
        "  reverse(node.next)\n",
        "  print(node)\n",
        "\n",
        "reverse(Head)"
      ],
      "metadata": {
        "colab": {
          "base_uri": "https://localhost:8080/"
        },
        "id": "HK_DC-BkKI6i",
        "outputId": "e361324f-819c-4eea-d613-b03a9afaed03"
      },
      "execution_count": 6,
      "outputs": [
        {
          "output_type": "stream",
          "name": "stdout",
          "text": [
            "4\n",
            "3\n",
            "2\n",
            "1\n"
          ]
        }
      ]
    },
    {
      "cell_type": "code",
      "source": [],
      "metadata": {
        "id": "g75L_e2VKUgd"
      },
      "execution_count": null,
      "outputs": []
    }
  ]
}