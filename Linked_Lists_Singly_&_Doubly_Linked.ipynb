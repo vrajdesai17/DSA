{
  "nbformat": 4,
  "nbformat_minor": 0,
  "metadata": {
    "colab": {
      "provenance": []
    },
    "kernelspec": {
      "name": "python3",
      "display_name": "Python 3"
    },
    "language_info": {
      "name": "python"
    }
  },
  "cells": [
    {
      "cell_type": "code",
      "execution_count": 1,
      "metadata": {
        "id": "Aqqcom6Mx9QC"
      },
      "outputs": [],
      "source": [
        "#Single Linked Lists\n",
        "\n",
        "class SinglyNode:\n",
        "  def __init__(self, val, next=None):\n",
        "    self.val = val\n",
        "    self.next = next\n",
        "\n",
        "  def __str__(self):\n",
        "    return str(self.val)"
      ]
    },
    {
      "cell_type": "code",
      "source": [
        "Head = SinglyNode(1)\n",
        "A = SinglyNode(3)\n",
        "B = SinglyNode(4)\n",
        "C = SinglyNode(7)\n",
        "\n",
        "Head.next = A\n",
        "A.next = B\n",
        "B.next = C\n",
        "\n",
        "print(Head)"
      ],
      "metadata": {
        "colab": {
          "base_uri": "https://localhost:8080/"
        },
        "id": "9kh-Qnt5yh08",
        "outputId": "5a7dfc49-8260-480e-f493-0b3a8cabd8b5"
      },
      "execution_count": 2,
      "outputs": [
        {
          "output_type": "stream",
          "name": "stdout",
          "text": [
            "1\n"
          ]
        }
      ]
    },
    {
      "cell_type": "code",
      "source": [
        "# Traverse the linked list - O(n)\n",
        "\n",
        "curr = Head\n",
        "\n",
        "while curr:\n",
        "  print(curr)\n",
        "  curr = curr.next\n",
        ""
      ],
      "metadata": {
        "colab": {
          "base_uri": "https://localhost:8080/"
        },
        "id": "gGHwSZLwy4rN",
        "outputId": "f4a159c9-d834-4182-ed72-71bab3db1d7c"
      },
      "execution_count": 3,
      "outputs": [
        {
          "output_type": "stream",
          "name": "stdout",
          "text": [
            "1\n",
            "3\n",
            "4\n",
            "7\n"
          ]
        }
      ]
    },
    {
      "cell_type": "code",
      "source": [
        "# Display the linked list\n",
        "def display(head):\n",
        "  curr = head\n",
        "  elements = []\n",
        "  while curr:\n",
        "    elements.append(str(curr.val))\n",
        "    curr = curr.next\n",
        "  print(' -> '.join(elements))\n",
        "  # ['a','b','c'] = ['abc']\n",
        "\n",
        "display(Head)"
      ],
      "metadata": {
        "colab": {
          "base_uri": "https://localhost:8080/"
        },
        "id": "GAzueKG3zKx5",
        "outputId": "5d1393f2-ecbc-496a-bdef-c30e30d7e45c"
      },
      "execution_count": 4,
      "outputs": [
        {
          "output_type": "stream",
          "name": "stdout",
          "text": [
            "1 -> 3 -> 4 -> 7\n"
          ]
        }
      ]
    },
    {
      "cell_type": "code",
      "source": [
        "# Search for a node value - O(n)\n",
        "def search(head, val):\n",
        "  curr = head\n",
        "  while curr:\n",
        "    if val == curr.val:\n",
        "      return True\n",
        "    curr = curr.next\n",
        "\n",
        "  return False\n",
        "\n",
        "search(Head, 9)"
      ],
      "metadata": {
        "colab": {
          "base_uri": "https://localhost:8080/"
        },
        "id": "81Dc-Jrwzy9D",
        "outputId": "f982e4b6-02f9-4e32-9bc8-cc589124fa85"
      },
      "execution_count": 5,
      "outputs": [
        {
          "output_type": "execute_result",
          "data": {
            "text/plain": [
              "False"
            ]
          },
          "metadata": {},
          "execution_count": 5
        }
      ]
    },
    {
      "cell_type": "code",
      "source": [
        "# Doubly Linked Lists\n",
        "class DoublyNode:\n",
        "  def __init__(self,val,next=None,prev=None):\n",
        "    self.val = val\n",
        "    self.next = next\n",
        "    self.prev = prev\n",
        "\n",
        "  def __str__(self):\n",
        "    return str(self.val)"
      ],
      "metadata": {
        "id": "UjERm99q0eqa"
      },
      "execution_count": 6,
      "outputs": []
    },
    {
      "cell_type": "code",
      "source": [
        "head = tail = DoublyNode(1)"
      ],
      "metadata": {
        "id": "CZar6k5s1JPy"
      },
      "execution_count": 7,
      "outputs": []
    },
    {
      "cell_type": "code",
      "source": [
        "print(head)"
      ],
      "metadata": {
        "colab": {
          "base_uri": "https://localhost:8080/"
        },
        "id": "dbjjw9JH1OT4",
        "outputId": "29b50ec5-defb-4667-aa81-0c7308e4fc8b"
      },
      "execution_count": 9,
      "outputs": [
        {
          "output_type": "stream",
          "name": "stdout",
          "text": [
            "1\n"
          ]
        }
      ]
    },
    {
      "cell_type": "code",
      "source": [
        "# Display - O(n)\n",
        "def display(head):\n",
        "  curr = head\n",
        "  elements = []\n",
        "  while curr:\n",
        "    elements.append(str(curr.val))\n",
        "    curr = curr.next\n",
        "  print(' <-> '.join(elements))\n",
        "\n",
        "display(head)"
      ],
      "metadata": {
        "colab": {
          "base_uri": "https://localhost:8080/"
        },
        "id": "2WUvWQQ81P0L",
        "outputId": "a16b9cda-1d58-4020-ec43-fbd3b4b378ae"
      },
      "execution_count": 11,
      "outputs": [
        {
          "output_type": "stream",
          "name": "stdout",
          "text": [
            "1\n"
          ]
        }
      ]
    },
    {
      "cell_type": "code",
      "source": [
        "def insert_at_beginning(head, tail, val):\n",
        "  new_node = DoublyNode(val, next=head)\n",
        "  head.prev = new_node\n",
        "  return new_node, tail\n",
        "\n",
        "head, tail = insert_at_beginning(head, tail, 3)"
      ],
      "metadata": {
        "id": "j6w31ejC3LC-"
      },
      "execution_count": 12,
      "outputs": []
    },
    {
      "cell_type": "code",
      "source": [
        "display(head)"
      ],
      "metadata": {
        "colab": {
          "base_uri": "https://localhost:8080/"
        },
        "id": "chxCOoby3t1v",
        "outputId": "de7bc4bc-5aa8-46b5-bdfc-2c23da2af406"
      },
      "execution_count": 13,
      "outputs": [
        {
          "output_type": "stream",
          "name": "stdout",
          "text": [
            "3 <-> 1\n"
          ]
        }
      ]
    },
    {
      "cell_type": "code",
      "source": [
        "def insert_at_end(head,tail,val):\n",
        "  new_node = DoublyNode(val, prev=tail)\n",
        "  tail.next = new_node\n",
        "  return head, new_node\n",
        "\n",
        "head, tail = insert_at_end(head, tail, 4)"
      ],
      "metadata": {
        "id": "fMDMeJg95KHA"
      },
      "execution_count": 14,
      "outputs": []
    },
    {
      "cell_type": "code",
      "source": [
        "display(head)"
      ],
      "metadata": {
        "colab": {
          "base_uri": "https://localhost:8080/"
        },
        "id": "8OVIx4395udw",
        "outputId": "36d03418-df93-40eb-84b5-112b0cb06cd0"
      },
      "execution_count": 15,
      "outputs": [
        {
          "output_type": "stream",
          "name": "stdout",
          "text": [
            "3 <-> 1 <-> 4\n"
          ]
        }
      ]
    }
  ]
}