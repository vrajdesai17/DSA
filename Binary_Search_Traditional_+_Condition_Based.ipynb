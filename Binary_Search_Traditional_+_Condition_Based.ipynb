{
  "nbformat": 4,
  "nbformat_minor": 0,
  "metadata": {
    "colab": {
      "provenance": []
    },
    "kernelspec": {
      "name": "python3",
      "display_name": "Python 3"
    },
    "language_info": {
      "name": "python"
    }
  },
  "cells": [
    {
      "cell_type": "code",
      "execution_count": 1,
      "metadata": {
        "id": "ZaVSzAcOgX_-"
      },
      "outputs": [],
      "source": [
        "A = [-3, -1, 0, 1, 4, 7]\n",
        "\n",
        "# Naive O(n) searching\n",
        "if 8 in A:\n",
        "  print(True)"
      ]
    },
    {
      "cell_type": "code",
      "source": [
        "# Traditional Binary Search - Looking up if number is in array\n",
        "# Time: O(log n)\n",
        "# Space: O(1)\n",
        "\n",
        "def binary_search(arr, target):\n",
        "  N = len(arr)\n",
        "  L = 0\n",
        "  R = N - 1\n",
        "\n",
        "  while L <= R:\n",
        "    M = L + ((R-L) // 2)\n",
        "    if arr[M] == target:\n",
        "      return True\n",
        "    elif target < arr[M]:\n",
        "      R = M - 1\n",
        "    else:\n",
        "      L = M + 1\n",
        "\n",
        "  return False\n",
        "\n",
        "binary_search(A, -1)"
      ],
      "metadata": {
        "colab": {
          "base_uri": "https://localhost:8080/"
        },
        "id": "lIT8_tDcgm-m",
        "outputId": "2507db41-881e-4f31-ed3b-9d0d576f0539"
      },
      "execution_count": 3,
      "outputs": [
        {
          "output_type": "execute_result",
          "data": {
            "text/plain": [
              "True"
            ]
          },
          "metadata": {},
          "execution_count": 3
        }
      ]
    },
    {
      "cell_type": "code",
      "source": [
        "B = [False, False, False, False, True, True, True]\n",
        "def binary_search_condition(arr):\n",
        "  N = len(arr)\n",
        "  L = 0\n",
        "  R = N - 1\n",
        "\n",
        "  while L < R:\n",
        "    M = (L + R) // 2\n",
        "    if B[M]:\n",
        "      R = M\n",
        "    else:\n",
        "      L = M+1\n",
        "\n",
        "  return L\n",
        "\n",
        "binary_search_condition(B)"
      ],
      "metadata": {
        "colab": {
          "base_uri": "https://localhost:8080/"
        },
        "id": "NDVAexk2iCU0",
        "outputId": "b5372eed-f9d2-4f86-8b9e-9812ad589953"
      },
      "execution_count": 4,
      "outputs": [
        {
          "output_type": "execute_result",
          "data": {
            "text/plain": [
              "4"
            ]
          },
          "metadata": {},
          "execution_count": 4
        }
      ]
    }
  ]
}