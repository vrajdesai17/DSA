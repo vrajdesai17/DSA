{
  "nbformat": 4,
  "nbformat_minor": 0,
  "metadata": {
    "colab": {
      "provenance": []
    },
    "kernelspec": {
      "name": "python3",
      "display_name": "Python 3"
    },
    "language_info": {
      "name": "python"
    }
  },
  "cells": [
    {
      "cell_type": "code",
      "source": [
        "# Hash Sets\n",
        "\n",
        "s = set()\n",
        "print(s)"
      ],
      "metadata": {
        "colab": {
          "base_uri": "https://localhost:8080/"
        },
        "id": "RqQs7GLxMPhr",
        "outputId": "6af07e09-a02c-4240-86ff-dfd7e74d015d"
      },
      "execution_count": 17,
      "outputs": [
        {
          "output_type": "stream",
          "name": "stdout",
          "text": [
            "set()\n"
          ]
        }
      ]
    },
    {
      "cell_type": "code",
      "source": [
        "# Add item into Set - O(1)\n",
        "s.add(1)\n",
        "s.add(2)\n",
        "s.add(3)\n",
        "\n",
        "print(s)"
      ],
      "metadata": {
        "colab": {
          "base_uri": "https://localhost:8080/"
        },
        "id": "TqRmN9K5MbtJ",
        "outputId": "c279ad4a-9219-4b7c-c261-3a7295666e49"
      },
      "execution_count": 19,
      "outputs": [
        {
          "output_type": "stream",
          "name": "stdout",
          "text": [
            "{1, 2, 3}\n"
          ]
        }
      ]
    },
    {
      "cell_type": "code",
      "source": [
        "# Lookup if item in set - O(1)\n",
        "if 1 in s:\n",
        "  print(True)"
      ],
      "metadata": {
        "colab": {
          "base_uri": "https://localhost:8080/"
        },
        "id": "oqTqUHz3MiML",
        "outputId": "99042bf1-c64a-44ee-b9e8-cc68be235c22"
      },
      "execution_count": 20,
      "outputs": [
        {
          "output_type": "stream",
          "name": "stdout",
          "text": [
            "True\n"
          ]
        }
      ]
    },
    {
      "cell_type": "code",
      "source": [
        "#Remove an item from set - O(1)\n",
        "s.remove(3)\n",
        "\n",
        "print(s)"
      ],
      "metadata": {
        "colab": {
          "base_uri": "https://localhost:8080/"
        },
        "id": "QPqtdTzyMw0s",
        "outputId": "a7c488b6-4596-4748-d72e-4d6722a0e541"
      },
      "execution_count": 21,
      "outputs": [
        {
          "output_type": "stream",
          "name": "stdout",
          "text": [
            "{1, 2}\n"
          ]
        }
      ]
    },
    {
      "cell_type": "code",
      "source": [
        "string = 'aaaaaabbbbbbbcccccceeee'\n",
        "sett = set(string)\n",
        "sett"
      ],
      "metadata": {
        "colab": {
          "base_uri": "https://localhost:8080/"
        },
        "id": "7MpCQMCCM5ng",
        "outputId": "e8dcbf25-9577-4b18-ab60-d072c4a8306e"
      },
      "execution_count": 22,
      "outputs": [
        {
          "output_type": "execute_result",
          "data": {
            "text/plain": [
              "{'a', 'b', 'c', 'e'}"
            ]
          },
          "metadata": {},
          "execution_count": 22
        }
      ]
    },
    {
      "cell_type": "code",
      "source": [
        "# Loop over item in set - O(n)\n",
        "for x in s:\n",
        "  print(x)"
      ],
      "metadata": {
        "colab": {
          "base_uri": "https://localhost:8080/"
        },
        "id": "WtYJSMByNB_7",
        "outputId": "f4604b88-a541-4b3d-b125-0a20f049fafe"
      },
      "execution_count": 23,
      "outputs": [
        {
          "output_type": "stream",
          "name": "stdout",
          "text": [
            "1\n",
            "2\n"
          ]
        }
      ]
    },
    {
      "cell_type": "code",
      "source": [
        "# Hashmaps - Dictionaries\n",
        "d = {'greg':1,'steve':2,'rob':3}\n",
        "print(d)"
      ],
      "metadata": {
        "colab": {
          "base_uri": "https://localhost:8080/"
        },
        "id": "jsLQZXylNJYP",
        "outputId": "aae7e432-1058-46a3-fa2a-fbdd7c2cdbd1"
      },
      "execution_count": 24,
      "outputs": [
        {
          "output_type": "stream",
          "name": "stdout",
          "text": [
            "{'greg': 1, 'steve': 2, 'rob': 3}\n"
          ]
        }
      ]
    },
    {
      "cell_type": "code",
      "source": [
        "# Add key:val in dictionary: O(1)\n",
        "d['aesh'] = 4\n",
        "print(d)"
      ],
      "metadata": {
        "colab": {
          "base_uri": "https://localhost:8080/"
        },
        "id": "tnqAFzbFNUOj",
        "outputId": "5966e216-6faa-47f9-fdae-e7197ae6fee1"
      },
      "execution_count": 25,
      "outputs": [
        {
          "output_type": "stream",
          "name": "stdout",
          "text": [
            "{'greg': 1, 'steve': 2, 'rob': 3, 'aesh': 4}\n"
          ]
        }
      ]
    },
    {
      "cell_type": "code",
      "source": [
        "# Check for presence of key in dictionary: O(1)\n",
        "if 'greg' in d:\n",
        "  print(True)\n",
        ""
      ],
      "metadata": {
        "colab": {
          "base_uri": "https://localhost:8080/"
        },
        "id": "9a5XnRY4NeSh",
        "outputId": "bf283008-01b3-47c5-ec8d-32dd5596df67"
      },
      "execution_count": 26,
      "outputs": [
        {
          "output_type": "stream",
          "name": "stdout",
          "text": [
            "True\n"
          ]
        }
      ]
    },
    {
      "cell_type": "code",
      "source": [
        "# Check the value corresponding to a key in the dictionary: O(1)\n",
        "print(d['greg'])"
      ],
      "metadata": {
        "colab": {
          "base_uri": "https://localhost:8080/"
        },
        "id": "UHQj3yQmNofR",
        "outputId": "e8c9dc6e-801f-4f60-98e7-6896f9e92c48"
      },
      "execution_count": 27,
      "outputs": [
        {
          "output_type": "stream",
          "name": "stdout",
          "text": [
            "1\n"
          ]
        }
      ]
    },
    {
      "cell_type": "code",
      "source": [
        "# Loop over the key:value pairs of the dictionary: O(n)\n",
        "for key,value in d.items():\n",
        "  print(f\"key {key}: value {value}\")"
      ],
      "metadata": {
        "colab": {
          "base_uri": "https://localhost:8080/"
        },
        "id": "FlxZhJQoNxaC",
        "outputId": "5f9829b9-6498-4598-bbef-bfd759f094ab"
      },
      "execution_count": 28,
      "outputs": [
        {
          "output_type": "stream",
          "name": "stdout",
          "text": [
            "key greg: value 1\n",
            "key steve: value 2\n",
            "key rob: value 3\n",
            "key aesh: value 4\n"
          ]
        }
      ]
    },
    {
      "cell_type": "code",
      "source": [
        "# Default dict\n",
        "from collections import defaultdict\n",
        "default = defaultdict(int)\n",
        "default[2]"
      ],
      "metadata": {
        "colab": {
          "base_uri": "https://localhost:8080/"
        },
        "id": "wYyX0TrDOALk",
        "outputId": "b46efdb5-e31e-4b01-9c28-4fcbe3645dd8"
      },
      "execution_count": 29,
      "outputs": [
        {
          "output_type": "execute_result",
          "data": {
            "text/plain": [
              "0"
            ]
          },
          "metadata": {},
          "execution_count": 29
        }
      ]
    },
    {
      "cell_type": "code",
      "source": [
        "default"
      ],
      "metadata": {
        "colab": {
          "base_uri": "https://localhost:8080/"
        },
        "id": "XsgrmNhcONmt",
        "outputId": "31fcb89e-7f83-44ee-9575-2f15454a239c"
      },
      "execution_count": 30,
      "outputs": [
        {
          "output_type": "execute_result",
          "data": {
            "text/plain": [
              "defaultdict(int, {2: 0})"
            ]
          },
          "metadata": {},
          "execution_count": 30
        }
      ]
    },
    {
      "cell_type": "code",
      "source": [
        "# Counter\n",
        "from collections import Counter\n",
        "counter = Counter(string)\n",
        "print(counter)"
      ],
      "metadata": {
        "colab": {
          "base_uri": "https://localhost:8080/"
        },
        "id": "_uYsk2JvORrk",
        "outputId": "088f5ca3-6bdd-4e75-8837-bddcef3ba5ae"
      },
      "execution_count": 32,
      "outputs": [
        {
          "output_type": "stream",
          "name": "stdout",
          "text": [
            "Counter({'b': 7, 'a': 6, 'c': 6, 'e': 4})\n"
          ]
        }
      ]
    }
  ]
}