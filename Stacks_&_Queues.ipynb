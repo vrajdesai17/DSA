{
  "nbformat": 4,
  "nbformat_minor": 0,
  "metadata": {
    "colab": {
      "provenance": []
    },
    "kernelspec": {
      "name": "python3",
      "display_name": "Python 3"
    },
    "language_info": {
      "name": "python"
    }
  },
  "cells": [
    {
      "cell_type": "code",
      "execution_count": 13,
      "metadata": {
        "colab": {
          "base_uri": "https://localhost:8080/"
        },
        "id": "A09J28NygLhR",
        "outputId": "27d1c346-6633-46e9-a328-2f4263341d0d"
      },
      "outputs": [
        {
          "output_type": "stream",
          "name": "stdout",
          "text": [
            "[]\n"
          ]
        }
      ],
      "source": [
        "# Stacks - Last in First Out\n",
        "\n",
        "stk = []\n",
        "print(stk)"
      ]
    },
    {
      "cell_type": "code",
      "source": [
        "# Append to top of stack - O(1)\n",
        "stk.append(5)\n",
        "stk"
      ],
      "metadata": {
        "colab": {
          "base_uri": "https://localhost:8080/"
        },
        "id": "CEGQwXEIhd1H",
        "outputId": "27595656-f435-4002-b160-034bddcdb59f"
      },
      "execution_count": 14,
      "outputs": [
        {
          "output_type": "execute_result",
          "data": {
            "text/plain": [
              "[5]"
            ]
          },
          "metadata": {},
          "execution_count": 14
        }
      ]
    },
    {
      "cell_type": "code",
      "source": [
        "stk.append(4)\n",
        "stk.append(3)\n",
        "\n",
        "stk"
      ],
      "metadata": {
        "colab": {
          "base_uri": "https://localhost:8080/"
        },
        "id": "fUIUb_2ghkJp",
        "outputId": "5c262793-51c4-41e0-f373-e4c9c32d6083"
      },
      "execution_count": 15,
      "outputs": [
        {
          "output_type": "execute_result",
          "data": {
            "text/plain": [
              "[5, 4, 3]"
            ]
          },
          "metadata": {},
          "execution_count": 15
        }
      ]
    },
    {
      "cell_type": "code",
      "source": [
        "# Pop from the stack - O(1)\n",
        "x = stk.pop()\n",
        "\n",
        "print(x)\n",
        "print(stk)"
      ],
      "metadata": {
        "colab": {
          "base_uri": "https://localhost:8080/"
        },
        "id": "StjIUL55hseA",
        "outputId": "2ad9400b-5d7a-44fa-fc8b-3ac5fd9c9c75"
      },
      "execution_count": 16,
      "outputs": [
        {
          "output_type": "stream",
          "name": "stdout",
          "text": [
            "3\n",
            "[5, 4]\n"
          ]
        }
      ]
    },
    {
      "cell_type": "code",
      "source": [
        "# Ask what's on the top of stack - O(1)\n",
        "print(stk[-1])"
      ],
      "metadata": {
        "colab": {
          "base_uri": "https://localhost:8080/"
        },
        "id": "OkqcufXEh2Dl",
        "outputId": "af91d52e-ea51-4322-f9e6-468daf9aab93"
      },
      "execution_count": 17,
      "outputs": [
        {
          "output_type": "stream",
          "name": "stdout",
          "text": [
            "4\n"
          ]
        }
      ]
    },
    {
      "cell_type": "code",
      "source": [
        "# Ask if something is in the stack - O(1)\n",
        "if stk:\n",
        "  print(True)"
      ],
      "metadata": {
        "colab": {
          "base_uri": "https://localhost:8080/"
        },
        "id": "msVVJ8B8h9gA",
        "outputId": "d0ddacaf-92fe-4081-c47d-6fa5ac8cbf47"
      },
      "execution_count": 18,
      "outputs": [
        {
          "output_type": "stream",
          "name": "stdout",
          "text": [
            "True\n"
          ]
        }
      ]
    },
    {
      "cell_type": "code",
      "source": [
        "# Queues - First in First Out\n",
        "from collections import deque\n",
        "q = deque()\n",
        "print(q)"
      ],
      "metadata": {
        "colab": {
          "base_uri": "https://localhost:8080/"
        },
        "id": "V4tt0JUaiB2I",
        "outputId": "7aa4b38a-9380-44ae-f4a5-ea61a9d84e4c"
      },
      "execution_count": 19,
      "outputs": [
        {
          "output_type": "stream",
          "name": "stdout",
          "text": [
            "deque([])\n"
          ]
        }
      ]
    },
    {
      "cell_type": "code",
      "source": [
        "# Enqueue - Add element to the right - O(1)\n",
        "q.append(1)\n",
        "q.append(2)\n",
        "\n",
        "q"
      ],
      "metadata": {
        "colab": {
          "base_uri": "https://localhost:8080/"
        },
        "id": "aSC6dzbjiVRI",
        "outputId": "8abad7a6-958d-4679-826a-80634cb79ca6"
      },
      "execution_count": 20,
      "outputs": [
        {
          "output_type": "execute_result",
          "data": {
            "text/plain": [
              "deque([1, 2])"
            ]
          },
          "metadata": {},
          "execution_count": 20
        }
      ]
    },
    {
      "cell_type": "code",
      "source": [
        "# Deque (pop left) - Remove element from the left - O(1)\n",
        "q.popleft()"
      ],
      "metadata": {
        "colab": {
          "base_uri": "https://localhost:8080/"
        },
        "id": "u-563yCZicvK",
        "outputId": "9aeceb48-447e-44a1-f1f5-86f946df7187"
      },
      "execution_count": 21,
      "outputs": [
        {
          "output_type": "execute_result",
          "data": {
            "text/plain": [
              "1"
            ]
          },
          "metadata": {},
          "execution_count": 21
        }
      ]
    },
    {
      "cell_type": "code",
      "source": [
        "q[-1]"
      ],
      "metadata": {
        "colab": {
          "base_uri": "https://localhost:8080/"
        },
        "id": "sRQprj5ziqyg",
        "outputId": "8bf13aed-41b7-4fb4-c8ad-5de71b694382"
      },
      "execution_count": 22,
      "outputs": [
        {
          "output_type": "execute_result",
          "data": {
            "text/plain": [
              "2"
            ]
          },
          "metadata": {},
          "execution_count": 22
        }
      ]
    }
  ]
}